{
  "nbformat": 4,
  "nbformat_minor": 0,
  "metadata": {
    "colab": {
      "provenance": [],
      "authorship_tag": "ABX9TyNIGEjBwrT7lq5H1YAbZtVV",
      "include_colab_link": true
    },
    "kernelspec": {
      "name": "python3",
      "display_name": "Python 3"
    },
    "language_info": {
      "name": "python"
    }
  },
  "cells": [
    {
      "cell_type": "markdown",
      "metadata": {
        "id": "view-in-github",
        "colab_type": "text"
      },
      "source": [
        "<a href=\"https://colab.research.google.com/github/Srikanth1234567808/inter_IIT_trails-/blob/main/Test.ipynb\" target=\"_parent\"><img src=\"https://colab.research.google.com/assets/colab-badge.svg\" alt=\"Open In Colab\"/></a>"
      ]
    },
    {
      "cell_type": "markdown",
      "source": [],
      "metadata": {
        "id": "AFwBvcRlhjkD"
      }
    },
    {
      "cell_type": "code",
      "execution_count": null,
      "metadata": {
        "id": "CgrWPfKbhdLa"
      },
      "outputs": [],
      "source": [
        "import yfinance as yf\n",
        "import pandas as pd\n",
        "import numpy as np\n",
        "\n",
        "csv_file = \"/content/ticker_lisst.csv\"\n",
        "ticker_symbols = pd.read_csv(csv_file)['Tickers'].tolist()\n",
        "\n",
        "data = yf.download(ticker_symbols, start=\"2023-09-30\", end=\"2024-10-01\", progress=False)\n",
        "\n",
        "ohlc_data = data[['Open', 'High', 'Low', 'Close']]\n",
        "ohlc_data.columns = ['_'.join(col) for col in ohlc_data.columns]\n",
        "\n",
        "def calculate_pct_change(ticker):\n",
        "    high_col = f'High_{ticker}'\n",
        "    close_col = f'Close_{ticker}'\n",
        "    return ((ohlc_data[high_col] - ohlc_data[close_col].shift(1)) / ohlc_data[close_col].shift(1)) * 100\n",
        "\n",
        "pct_changes = {ticker: calculate_pct_change(ticker) for ticker in ticker_symbols}\n",
        "pct_change_df = pd.DataFrame(pct_changes)\n",
        "\n",
        "ohlc_data = pd.concat([ohlc_data, pct_change_df.add_suffix('_Pct_Change_High_Close')], axis=1)\n",
        "\n",
        "def percentile_exc(data, q):\n",
        "    data_sorted = np.sort(data.dropna())\n",
        "    n = len(data_sorted)\n",
        "\n",
        "    if n == 0:\n",
        "        return np.nan\n",
        "\n",
        "    rank = q * (n + 1) - 1\n",
        "    if rank < 0:\n",
        "        return data_sorted[0]\n",
        "    elif rank >= n - 1:\n",
        "        return data_sorted[-1]\n",
        "    else:\n",
        "        lower = int(np.floor(rank))\n",
        "        upper = int(np.ceil(rank))\n",
        "        return data_sorted[lower] + (rank - lower) * (data_sorted[upper] - data_sorted[lower])\n",
        "\n",
        "percentile_10_exc = pct_change_df.apply(lambda x: percentile_exc(x, 0.10))\n",
        "\n",
        "adjusted_percentile_10_exc = percentile_10_exc - 0.01\n",
        "\n",
        "print(\"The adjusted value where 90% of the percentage changes are above for each company (after subtracting 0.01):\")\n",
        "print(adjusted_percentile_10_exc)\n"
      ]
    }
  ]
}